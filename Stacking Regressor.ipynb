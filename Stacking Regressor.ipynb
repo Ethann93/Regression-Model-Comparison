{
 "cells": [
  {
   "cell_type": "code",
   "execution_count": 122,
   "id": "5625727f",
   "metadata": {},
   "outputs": [],
   "source": [
    "import pandas as pd\n",
    "import seaborn as sns\n",
    "\n",
    "from sklearn import metrics\n",
    "from sklearn.model_selection import train_test_split, RandomizedSearchCV\n",
    "from sklearn.linear_model import LinearRegression\n",
    "from sklearn.metrics import mean_squared_error, r2_score\n",
    "from sklearn.ensemble import RandomForestRegressor, GradientBoostingRegressor, StackingRegressor, VotingRegressor\n",
    "from sklearn.linear_model import Ridge\n",
    "from sklearn.model_selection import GridSearchCV\n",
    "from sklearn.svm import SVR"
   ]
  },
  {
   "cell_type": "code",
   "execution_count": 2,
   "id": "3532b7db",
   "metadata": {},
   "outputs": [],
   "source": [
    "mpg = sns.load_dataset('mpg')"
   ]
  },
  {
   "cell_type": "markdown",
   "id": "6e9e80f0",
   "metadata": {},
   "source": [
    "## Explore the DataSet"
   ]
  },
  {
   "cell_type": "code",
   "execution_count": 3,
   "id": "8578f8ef",
   "metadata": {
    "scrolled": true
   },
   "outputs": [
    {
     "data": {
      "text/html": [
       "<div>\n",
       "<style scoped>\n",
       "    .dataframe tbody tr th:only-of-type {\n",
       "        vertical-align: middle;\n",
       "    }\n",
       "\n",
       "    .dataframe tbody tr th {\n",
       "        vertical-align: top;\n",
       "    }\n",
       "\n",
       "    .dataframe thead th {\n",
       "        text-align: right;\n",
       "    }\n",
       "</style>\n",
       "<table border=\"1\" class=\"dataframe\">\n",
       "  <thead>\n",
       "    <tr style=\"text-align: right;\">\n",
       "      <th></th>\n",
       "      <th>mpg</th>\n",
       "      <th>cylinders</th>\n",
       "      <th>displacement</th>\n",
       "      <th>horsepower</th>\n",
       "      <th>weight</th>\n",
       "      <th>acceleration</th>\n",
       "      <th>model_year</th>\n",
       "      <th>origin</th>\n",
       "      <th>name</th>\n",
       "    </tr>\n",
       "  </thead>\n",
       "  <tbody>\n",
       "    <tr>\n",
       "      <th>0</th>\n",
       "      <td>18.0</td>\n",
       "      <td>8</td>\n",
       "      <td>307.0</td>\n",
       "      <td>130.0</td>\n",
       "      <td>3504</td>\n",
       "      <td>12.0</td>\n",
       "      <td>70</td>\n",
       "      <td>usa</td>\n",
       "      <td>chevrolet chevelle malibu</td>\n",
       "    </tr>\n",
       "    <tr>\n",
       "      <th>1</th>\n",
       "      <td>15.0</td>\n",
       "      <td>8</td>\n",
       "      <td>350.0</td>\n",
       "      <td>165.0</td>\n",
       "      <td>3693</td>\n",
       "      <td>11.5</td>\n",
       "      <td>70</td>\n",
       "      <td>usa</td>\n",
       "      <td>buick skylark 320</td>\n",
       "    </tr>\n",
       "    <tr>\n",
       "      <th>2</th>\n",
       "      <td>18.0</td>\n",
       "      <td>8</td>\n",
       "      <td>318.0</td>\n",
       "      <td>150.0</td>\n",
       "      <td>3436</td>\n",
       "      <td>11.0</td>\n",
       "      <td>70</td>\n",
       "      <td>usa</td>\n",
       "      <td>plymouth satellite</td>\n",
       "    </tr>\n",
       "    <tr>\n",
       "      <th>3</th>\n",
       "      <td>16.0</td>\n",
       "      <td>8</td>\n",
       "      <td>304.0</td>\n",
       "      <td>150.0</td>\n",
       "      <td>3433</td>\n",
       "      <td>12.0</td>\n",
       "      <td>70</td>\n",
       "      <td>usa</td>\n",
       "      <td>amc rebel sst</td>\n",
       "    </tr>\n",
       "    <tr>\n",
       "      <th>4</th>\n",
       "      <td>17.0</td>\n",
       "      <td>8</td>\n",
       "      <td>302.0</td>\n",
       "      <td>140.0</td>\n",
       "      <td>3449</td>\n",
       "      <td>10.5</td>\n",
       "      <td>70</td>\n",
       "      <td>usa</td>\n",
       "      <td>ford torino</td>\n",
       "    </tr>\n",
       "  </tbody>\n",
       "</table>\n",
       "</div>"
      ],
      "text/plain": [
       "    mpg  cylinders  displacement  horsepower  weight  acceleration  \\\n",
       "0  18.0          8         307.0       130.0    3504          12.0   \n",
       "1  15.0          8         350.0       165.0    3693          11.5   \n",
       "2  18.0          8         318.0       150.0    3436          11.0   \n",
       "3  16.0          8         304.0       150.0    3433          12.0   \n",
       "4  17.0          8         302.0       140.0    3449          10.5   \n",
       "\n",
       "   model_year origin                       name  \n",
       "0          70    usa  chevrolet chevelle malibu  \n",
       "1          70    usa          buick skylark 320  \n",
       "2          70    usa         plymouth satellite  \n",
       "3          70    usa              amc rebel sst  \n",
       "4          70    usa                ford torino  "
      ]
     },
     "execution_count": 3,
     "metadata": {},
     "output_type": "execute_result"
    }
   ],
   "source": [
    "mpg.head()"
   ]
  },
  {
   "cell_type": "code",
   "execution_count": 4,
   "id": "ea92efd3",
   "metadata": {},
   "outputs": [
    {
     "name": "stdout",
     "output_type": "stream",
     "text": [
      "<class 'pandas.core.frame.DataFrame'>\n",
      "RangeIndex: 398 entries, 0 to 397\n",
      "Data columns (total 9 columns):\n",
      " #   Column        Non-Null Count  Dtype  \n",
      "---  ------        --------------  -----  \n",
      " 0   mpg           398 non-null    float64\n",
      " 1   cylinders     398 non-null    int64  \n",
      " 2   displacement  398 non-null    float64\n",
      " 3   horsepower    392 non-null    float64\n",
      " 4   weight        398 non-null    int64  \n",
      " 5   acceleration  398 non-null    float64\n",
      " 6   model_year    398 non-null    int64  \n",
      " 7   origin        398 non-null    object \n",
      " 8   name          398 non-null    object \n",
      "dtypes: float64(4), int64(3), object(2)\n",
      "memory usage: 28.1+ KB\n"
     ]
    }
   ],
   "source": [
    "mpg.info()"
   ]
  },
  {
   "cell_type": "markdown",
   "id": "4fe0d068",
   "metadata": {},
   "source": [
    "## Data Cleaning"
   ]
  },
  {
   "cell_type": "markdown",
   "id": "56e354d6",
   "metadata": {},
   "source": [
    "### Drop Unnecessary columns"
   ]
  },
  {
   "cell_type": "code",
   "execution_count": 5,
   "id": "b3606c73",
   "metadata": {},
   "outputs": [],
   "source": [
    "#drop names column\n",
    "mpg = mpg.drop('name', axis =1)"
   ]
  },
  {
   "cell_type": "markdown",
   "id": "58a417dc",
   "metadata": {},
   "source": [
    "### Encode Binary Numbers to Categorical Column"
   ]
  },
  {
   "cell_type": "code",
   "execution_count": 7,
   "id": "7cf7a638",
   "metadata": {},
   "outputs": [],
   "source": [
    "mpg = pd.get_dummies(mpg)"
   ]
  },
  {
   "cell_type": "code",
   "execution_count": 8,
   "id": "aa4a4e58",
   "metadata": {},
   "outputs": [
    {
     "data": {
      "text/html": [
       "<div>\n",
       "<style scoped>\n",
       "    .dataframe tbody tr th:only-of-type {\n",
       "        vertical-align: middle;\n",
       "    }\n",
       "\n",
       "    .dataframe tbody tr th {\n",
       "        vertical-align: top;\n",
       "    }\n",
       "\n",
       "    .dataframe thead th {\n",
       "        text-align: right;\n",
       "    }\n",
       "</style>\n",
       "<table border=\"1\" class=\"dataframe\">\n",
       "  <thead>\n",
       "    <tr style=\"text-align: right;\">\n",
       "      <th></th>\n",
       "      <th>mpg</th>\n",
       "      <th>cylinders</th>\n",
       "      <th>displacement</th>\n",
       "      <th>horsepower</th>\n",
       "      <th>weight</th>\n",
       "      <th>acceleration</th>\n",
       "      <th>model_year</th>\n",
       "      <th>origin_europe</th>\n",
       "      <th>origin_japan</th>\n",
       "      <th>origin_usa</th>\n",
       "    </tr>\n",
       "  </thead>\n",
       "  <tbody>\n",
       "    <tr>\n",
       "      <th>0</th>\n",
       "      <td>18.0</td>\n",
       "      <td>8</td>\n",
       "      <td>307.0</td>\n",
       "      <td>130.0</td>\n",
       "      <td>3504</td>\n",
       "      <td>12.0</td>\n",
       "      <td>70</td>\n",
       "      <td>0</td>\n",
       "      <td>0</td>\n",
       "      <td>1</td>\n",
       "    </tr>\n",
       "    <tr>\n",
       "      <th>1</th>\n",
       "      <td>15.0</td>\n",
       "      <td>8</td>\n",
       "      <td>350.0</td>\n",
       "      <td>165.0</td>\n",
       "      <td>3693</td>\n",
       "      <td>11.5</td>\n",
       "      <td>70</td>\n",
       "      <td>0</td>\n",
       "      <td>0</td>\n",
       "      <td>1</td>\n",
       "    </tr>\n",
       "    <tr>\n",
       "      <th>2</th>\n",
       "      <td>18.0</td>\n",
       "      <td>8</td>\n",
       "      <td>318.0</td>\n",
       "      <td>150.0</td>\n",
       "      <td>3436</td>\n",
       "      <td>11.0</td>\n",
       "      <td>70</td>\n",
       "      <td>0</td>\n",
       "      <td>0</td>\n",
       "      <td>1</td>\n",
       "    </tr>\n",
       "    <tr>\n",
       "      <th>3</th>\n",
       "      <td>16.0</td>\n",
       "      <td>8</td>\n",
       "      <td>304.0</td>\n",
       "      <td>150.0</td>\n",
       "      <td>3433</td>\n",
       "      <td>12.0</td>\n",
       "      <td>70</td>\n",
       "      <td>0</td>\n",
       "      <td>0</td>\n",
       "      <td>1</td>\n",
       "    </tr>\n",
       "    <tr>\n",
       "      <th>4</th>\n",
       "      <td>17.0</td>\n",
       "      <td>8</td>\n",
       "      <td>302.0</td>\n",
       "      <td>140.0</td>\n",
       "      <td>3449</td>\n",
       "      <td>10.5</td>\n",
       "      <td>70</td>\n",
       "      <td>0</td>\n",
       "      <td>0</td>\n",
       "      <td>1</td>\n",
       "    </tr>\n",
       "  </tbody>\n",
       "</table>\n",
       "</div>"
      ],
      "text/plain": [
       "    mpg  cylinders  displacement  horsepower  weight  acceleration  \\\n",
       "0  18.0          8         307.0       130.0    3504          12.0   \n",
       "1  15.0          8         350.0       165.0    3693          11.5   \n",
       "2  18.0          8         318.0       150.0    3436          11.0   \n",
       "3  16.0          8         304.0       150.0    3433          12.0   \n",
       "4  17.0          8         302.0       140.0    3449          10.5   \n",
       "\n",
       "   model_year  origin_europe  origin_japan  origin_usa  \n",
       "0          70              0             0           1  \n",
       "1          70              0             0           1  \n",
       "2          70              0             0           1  \n",
       "3          70              0             0           1  \n",
       "4          70              0             0           1  "
      ]
     },
     "execution_count": 8,
     "metadata": {},
     "output_type": "execute_result"
    }
   ],
   "source": [
    "mpg.head()"
   ]
  },
  {
   "cell_type": "markdown",
   "id": "4d4a605d",
   "metadata": {},
   "source": [
    "### Check for NaN Values"
   ]
  },
  {
   "cell_type": "code",
   "execution_count": 11,
   "id": "656d1de2",
   "metadata": {},
   "outputs": [
    {
     "data": {
      "text/plain": [
       "mpg              0\n",
       "cylinders        0\n",
       "displacement     0\n",
       "horsepower       6\n",
       "weight           0\n",
       "acceleration     0\n",
       "model_year       0\n",
       "origin_europe    0\n",
       "origin_japan     0\n",
       "origin_usa       0\n",
       "dtype: int64"
      ]
     },
     "execution_count": 11,
     "metadata": {},
     "output_type": "execute_result"
    }
   ],
   "source": [
    "mpg.isnull().sum()"
   ]
  },
  {
   "cell_type": "markdown",
   "id": "488c67cb",
   "metadata": {},
   "source": [
    "#### There are 6 NaN values under the horsepower column"
   ]
  },
  {
   "cell_type": "markdown",
   "id": "8aa07865",
   "metadata": {},
   "source": [
    "### Filling out Null Values With the Overall Mean Value of Horsepower"
   ]
  },
  {
   "cell_type": "code",
   "execution_count": 15,
   "id": "c002d3fd",
   "metadata": {},
   "outputs": [
    {
     "data": {
      "text/plain": [
       "104.46938775510205"
      ]
     },
     "execution_count": 15,
     "metadata": {},
     "output_type": "execute_result"
    }
   ],
   "source": [
    "mpg['horsepower'].mean()"
   ]
  },
  {
   "cell_type": "code",
   "execution_count": 16,
   "id": "b8485616",
   "metadata": {},
   "outputs": [],
   "source": [
    "## Replace the Null values with 104.47\n",
    "mpg['horsepower'].fillna(mpg['horsepower'].mean(), inplace= True)"
   ]
  },
  {
   "cell_type": "code",
   "execution_count": null,
   "id": "807f6433",
   "metadata": {},
   "outputs": [],
   "source": []
  },
  {
   "cell_type": "markdown",
   "id": "b3cbf3ca",
   "metadata": {},
   "source": [
    "## Modeling"
   ]
  },
  {
   "cell_type": "markdown",
   "id": "5f021457",
   "metadata": {},
   "source": [
    "### Split the Data Between X & Y.\n",
    "#### X = Features\n",
    "#### Y = Targets"
   ]
  },
  {
   "cell_type": "code",
   "execution_count": 17,
   "id": "f8c6de05",
   "metadata": {},
   "outputs": [],
   "source": [
    "X = mpg.drop('mpg', axis = 1)"
   ]
  },
  {
   "cell_type": "code",
   "execution_count": 18,
   "id": "f1aa5013",
   "metadata": {},
   "outputs": [],
   "source": [
    "y = mpg['mpg']"
   ]
  },
  {
   "cell_type": "markdown",
   "id": "44d3f180",
   "metadata": {},
   "source": [
    "### Train Test Split 80/20"
   ]
  },
  {
   "cell_type": "code",
   "execution_count": 21,
   "id": "f01fc95e",
   "metadata": {},
   "outputs": [],
   "source": [
    "X_train, X_test, y_train, y_test = train_test_split(X, y ,test_size = 0.2, random_state = 42)"
   ]
  },
  {
   "cell_type": "markdown",
   "id": "6b1caf15",
   "metadata": {},
   "source": [
    "### Linear Regression "
   ]
  },
  {
   "cell_type": "code",
   "execution_count": 25,
   "id": "f0458a59",
   "metadata": {},
   "outputs": [],
   "source": [
    "lr = LinearRegression()"
   ]
  },
  {
   "cell_type": "code",
   "execution_count": 27,
   "id": "39e6b1b5",
   "metadata": {},
   "outputs": [
    {
     "data": {
      "text/plain": [
       "LinearRegression()"
      ]
     },
     "execution_count": 27,
     "metadata": {},
     "output_type": "execute_result"
    }
   ],
   "source": [
    "lr.fit(X_train, y_train)"
   ]
  },
  {
   "cell_type": "code",
   "execution_count": 28,
   "id": "a92db508",
   "metadata": {},
   "outputs": [],
   "source": [
    "y_pred = lr.predict(X_test)"
   ]
  },
  {
   "cell_type": "code",
   "execution_count": 34,
   "id": "13bff43b",
   "metadata": {},
   "outputs": [
    {
     "data": {
      "text/plain": [
       "8.339142500255903"
      ]
     },
     "execution_count": 34,
     "metadata": {},
     "output_type": "execute_result"
    }
   ],
   "source": [
    "mean_squared_error(y_test, y_pred)"
   ]
  },
  {
   "cell_type": "code",
   "execution_count": 36,
   "id": "62516dfa",
   "metadata": {},
   "outputs": [
    {
     "data": {
      "text/plain": [
       "0.8449006123776617"
      ]
     },
     "execution_count": 36,
     "metadata": {},
     "output_type": "execute_result"
    }
   ],
   "source": [
    "r2_score(y_test, y_pred)"
   ]
  },
  {
   "cell_type": "markdown",
   "id": "010675e6",
   "metadata": {},
   "source": [
    "### Random Forest model"
   ]
  },
  {
   "cell_type": "code",
   "execution_count": 41,
   "id": "c6920d18",
   "metadata": {},
   "outputs": [],
   "source": [
    "rfr = RandomForestRegressor(random_state = 42)"
   ]
  },
  {
   "cell_type": "code",
   "execution_count": 42,
   "id": "90a94094",
   "metadata": {},
   "outputs": [
    {
     "data": {
      "text/plain": [
       "RandomForestRegressor(random_state=42)"
      ]
     },
     "execution_count": 42,
     "metadata": {},
     "output_type": "execute_result"
    }
   ],
   "source": [
    "rfr.fit(X_train, y_train)"
   ]
  },
  {
   "cell_type": "code",
   "execution_count": 43,
   "id": "bad85928",
   "metadata": {},
   "outputs": [],
   "source": [
    "y_pred2 =rfr.predict(X_test)"
   ]
  },
  {
   "cell_type": "code",
   "execution_count": 44,
   "id": "9d0f0eb8",
   "metadata": {},
   "outputs": [
    {
     "data": {
      "text/plain": [
       "4.5866399625"
      ]
     },
     "execution_count": 44,
     "metadata": {},
     "output_type": "execute_result"
    }
   ],
   "source": [
    "mean_squared_error(y_test, y_pred2)"
   ]
  },
  {
   "cell_type": "code",
   "execution_count": 45,
   "id": "738d69df",
   "metadata": {},
   "outputs": [
    {
     "data": {
      "text/plain": [
       "0.9146932613987512"
      ]
     },
     "execution_count": 45,
     "metadata": {},
     "output_type": "execute_result"
    }
   ],
   "source": [
    "r2_score(y_test, y_pred2)"
   ]
  },
  {
   "cell_type": "markdown",
   "id": "17916d4d",
   "metadata": {},
   "source": [
    "### Ridge Regression"
   ]
  },
  {
   "cell_type": "code",
   "execution_count": 47,
   "id": "04b2d7b1",
   "metadata": {},
   "outputs": [],
   "source": [
    "ridge = Ridge()"
   ]
  },
  {
   "cell_type": "code",
   "execution_count": 50,
   "id": "6580ae66",
   "metadata": {},
   "outputs": [],
   "source": [
    "param_grid_ridge = {\n",
    "    'alpha' : [0.05, 0.1, 0.3, 1, 3, 5, 10, 15, 10, 15, 30, 50, 75],\n",
    "}"
   ]
  },
  {
   "cell_type": "code",
   "execution_count": 116,
   "id": "819d4ad8",
   "metadata": {},
   "outputs": [],
   "source": [
    "ridge_cv =GridSearchCV(ridge, param_grid_ridge, cv=5, n_jobs = -1, scoring='neg_mean_squared_error')"
   ]
  },
  {
   "cell_type": "code",
   "execution_count": 117,
   "id": "d03afef5",
   "metadata": {},
   "outputs": [
    {
     "name": "stdout",
     "output_type": "stream",
     "text": [
      "Wall time: 2.12 s\n"
     ]
    },
    {
     "data": {
      "text/plain": [
       "GridSearchCV(cv=5, estimator=Ridge(), n_jobs=-1,\n",
       "             param_grid={'alpha': [0.05, 0.1, 0.3, 1, 3, 5, 10, 15, 10, 15, 30,\n",
       "                                   50, 75]},\n",
       "             scoring='neg_mean_squared_error')"
      ]
     },
     "execution_count": 117,
     "metadata": {},
     "output_type": "execute_result"
    }
   ],
   "source": [
    "%%time\n",
    "ridge_cv.fit(X_train, y_train)"
   ]
  },
  {
   "cell_type": "code",
   "execution_count": 54,
   "id": "fe375760",
   "metadata": {},
   "outputs": [
    {
     "data": {
      "text/plain": [
       "Ridge(alpha=10)"
      ]
     },
     "execution_count": 54,
     "metadata": {},
     "output_type": "execute_result"
    }
   ],
   "source": [
    "### The alpha value that worked the best\n",
    "ridge_cv.best_estimator_"
   ]
  },
  {
   "cell_type": "code",
   "execution_count": 55,
   "id": "c524a61f",
   "metadata": {},
   "outputs": [],
   "source": [
    "y_pred3 =ridge_cv.predict(X_test)"
   ]
  },
  {
   "cell_type": "code",
   "execution_count": 56,
   "id": "d6740618",
   "metadata": {},
   "outputs": [
    {
     "data": {
      "text/plain": [
       "8.366781015266866"
      ]
     },
     "execution_count": 56,
     "metadata": {},
     "output_type": "execute_result"
    }
   ],
   "source": [
    "mean_squared_error(y_test, y_pred3)"
   ]
  },
  {
   "cell_type": "code",
   "execution_count": 57,
   "id": "d63ffd39",
   "metadata": {},
   "outputs": [
    {
     "data": {
      "text/plain": [
       "0.8443865647099477"
      ]
     },
     "execution_count": 57,
     "metadata": {},
     "output_type": "execute_result"
    }
   ],
   "source": [
    "r2_score(y_test, y_pred3)"
   ]
  },
  {
   "cell_type": "markdown",
   "id": "42ef9c16",
   "metadata": {},
   "source": [
    "### Gradient Boosting Regression"
   ]
  },
  {
   "cell_type": "code",
   "execution_count": 60,
   "id": "3a47cb8e",
   "metadata": {},
   "outputs": [],
   "source": [
    "gbr = GradientBoostingRegressor()"
   ]
  },
  {
   "cell_type": "code",
   "execution_count": 61,
   "id": "568907d1",
   "metadata": {},
   "outputs": [
    {
     "data": {
      "text/plain": [
       "GradientBoostingRegressor()"
      ]
     },
     "execution_count": 61,
     "metadata": {},
     "output_type": "execute_result"
    }
   ],
   "source": [
    "gbr.fit(X_train, y_train)"
   ]
  },
  {
   "cell_type": "code",
   "execution_count": 62,
   "id": "0f3c1dcc",
   "metadata": {},
   "outputs": [],
   "source": [
    "y_pred4 = gbr.predict(X_test)"
   ]
  },
  {
   "cell_type": "code",
   "execution_count": 63,
   "id": "b6b773d4",
   "metadata": {},
   "outputs": [
    {
     "data": {
      "text/plain": [
       "5.600520791306055"
      ]
     },
     "execution_count": 63,
     "metadata": {},
     "output_type": "execute_result"
    }
   ],
   "source": [
    "mean_squared_error(y_test, y_pred4)"
   ]
  },
  {
   "cell_type": "code",
   "execution_count": 64,
   "id": "5eafd614",
   "metadata": {},
   "outputs": [
    {
     "data": {
      "text/plain": [
       "0.895836131224393"
      ]
     },
     "execution_count": 64,
     "metadata": {},
     "output_type": "execute_result"
    }
   ],
   "source": [
    "r2_score(y_test, y_pred4)"
   ]
  },
  {
   "cell_type": "markdown",
   "id": "d029938f",
   "metadata": {},
   "source": [
    "### Stacking Regressing Model"
   ]
  },
  {
   "cell_type": "code",
   "execution_count": 85,
   "id": "5be37ee6",
   "metadata": {},
   "outputs": [],
   "source": [
    "estimators = [\n",
    "    ('lr', lr),\n",
    "    ('ridge',ridge_cv.best_estimator_),\n",
    "    ('gbr',gbr),\n",
    "]"
   ]
  },
  {
   "cell_type": "code",
   "execution_count": 68,
   "id": "5ad8507d",
   "metadata": {},
   "outputs": [],
   "source": [
    "sr = StackingRegressor(\n",
    "    estimators = estimators,\n",
    "    final_estimator = rfr\n",
    ")"
   ]
  },
  {
   "cell_type": "code",
   "execution_count": 70,
   "id": "67a34f52",
   "metadata": {},
   "outputs": [
    {
     "data": {
      "text/plain": [
       "StackingRegressor(estimators=[('lr', LinearRegression()),\n",
       "                              ('ridge', Ridge(alpha=10)),\n",
       "                              ('gbr', GradientBoostingRegressor())],\n",
       "                  final_estimator=RandomForestRegressor(random_state=42))"
      ]
     },
     "execution_count": 70,
     "metadata": {},
     "output_type": "execute_result"
    }
   ],
   "source": [
    "sr.fit(X_train,y_train)"
   ]
  },
  {
   "cell_type": "code",
   "execution_count": 71,
   "id": "9f464415",
   "metadata": {},
   "outputs": [],
   "source": [
    "y_pred5 = sr.predict(X_test)"
   ]
  },
  {
   "cell_type": "code",
   "execution_count": 72,
   "id": "c1772f21",
   "metadata": {},
   "outputs": [
    {
     "data": {
      "text/plain": [
       "6.3753337750000005"
      ]
     },
     "execution_count": 72,
     "metadata": {},
     "output_type": "execute_result"
    }
   ],
   "source": [
    "mean_squared_error(y_test, y_pred5)"
   ]
  },
  {
   "cell_type": "code",
   "execution_count": 73,
   "id": "01a2cd2b",
   "metadata": {},
   "outputs": [
    {
     "data": {
      "text/plain": [
       "0.8814254146202481"
      ]
     },
     "execution_count": 73,
     "metadata": {},
     "output_type": "execute_result"
    }
   ],
   "source": [
    "r2_score(y_test, y_pred5)"
   ]
  },
  {
   "cell_type": "markdown",
   "id": "335ed686",
   "metadata": {},
   "source": [
    "### Comparing the best performers\n",
    "\n",
    "1. Mean Squared Error (MSE):\n",
    "\n",
    "Lower MSE is Better: For the MSE, a lower value indicates a better model fit. It measures the average squared difference between the predicted values and the actual values. Smaller MSE means the model's predictions are closer to the actual data points.\n",
    "\n",
    "2. R-squared (R^2) Score:\n",
    "\n",
    "Higher R^2 is Better: R-squared is a measure of how well the independent variables explain the variation in the dependent variable. It ranges from 0 to 1, and a higher R^2 score indicates a better model fit. An R^2 score of 1 means that the model explains all the variability in the data, while an R^2 score of 0 means that the model does not explain any of the variability.\n",
    "\n",
    "In summary:\n",
    "\n",
    "For MSE, lower values are better.\n",
    "\n",
    "For R^2, higher values (closer to 1) are better.\n",
    "\n"
   ]
  },
  {
   "cell_type": "code",
   "execution_count": 86,
   "id": "7676b031",
   "metadata": {},
   "outputs": [
    {
     "name": "stdout",
     "output_type": "stream",
     "text": [
      "                          Model       MSE  R-squared\n",
      "1                 Random Forest  4.586640   0.914693\n",
      "3  Gradient Boosting Regression  5.600521   0.895836\n",
      "0              Linear Regressor  8.339143   0.844901\n",
      "2               Ridge Regressor  8.366781   0.844387\n"
     ]
    }
   ],
   "source": [
    "data = {\n",
    "    'Model': ['Linear Regressor', 'Random Forest', 'Ridge Regressor','Gradient Boosting Regression',],\n",
    "    'MSE': [mean_squared_error(y_test, y_pred), mean_squared_error(y_test, y_pred2), mean_squared_error(y_test, y_pred3),mean_squared_error(y_test, y_pred4)],\n",
    "    'R-squared': [r2_score(y_test, y_pred), r2_score(y_test, y_pred2), r2_score(y_test, y_pred3),r2_score(y_test, y_pred4)]\n",
    "}\n",
    "\n",
    "# Create a DataFrame\n",
    "df = pd.DataFrame(data)\n",
    "\n",
    "# Sort the DataFrame by 'MSE' column in descending order\n",
    "sorted_df = df.sort_values(by='MSE', ascending=True)\n",
    "\n",
    "print(sorted_df)"
   ]
  },
  {
   "cell_type": "markdown",
   "id": "026b01b1",
   "metadata": {},
   "source": [
    "Random Forest, Gradient Boosting Regression and Linear Regressor and performed the best in the order of lowest MSE"
   ]
  },
  {
   "cell_type": "markdown",
   "id": "c69dc3da",
   "metadata": {},
   "source": [
    "### Voting Regressor"
   ]
  },
  {
   "cell_type": "code",
   "execution_count": 91,
   "id": "ffde3534",
   "metadata": {},
   "outputs": [],
   "source": [
    "### Weighting the estomators by the level of best performers\n",
    "vr = VotingRegressor([\n",
    "    ('lr', lr),\n",
    "    ('rfr', rfr),\n",
    "    ('gbr',gbr),\n",
    "], weights=[2,3,1])"
   ]
  },
  {
   "cell_type": "code",
   "execution_count": 92,
   "id": "d83b93dc",
   "metadata": {},
   "outputs": [
    {
     "data": {
      "text/plain": [
       "VotingRegressor(estimators=[('lr', LinearRegression()),\n",
       "                            ('rfr', RandomForestRegressor(random_state=42)),\n",
       "                            ('gbr', GradientBoostingRegressor())],\n",
       "                weights=[2, 3, 1])"
      ]
     },
     "execution_count": 92,
     "metadata": {},
     "output_type": "execute_result"
    }
   ],
   "source": [
    "vr.fit(X_train,y_train)"
   ]
  },
  {
   "cell_type": "code",
   "execution_count": 93,
   "id": "339bb33a",
   "metadata": {},
   "outputs": [],
   "source": [
    "y_pred6 = vr.predict(X_test)"
   ]
  },
  {
   "cell_type": "code",
   "execution_count": 94,
   "id": "583a08e4",
   "metadata": {},
   "outputs": [
    {
     "data": {
      "text/plain": [
       "4.9625939733020425"
      ]
     },
     "execution_count": 94,
     "metadata": {},
     "output_type": "execute_result"
    }
   ],
   "source": [
    "mean_squared_error(y_test, y_pred6)"
   ]
  },
  {
   "cell_type": "code",
   "execution_count": 95,
   "id": "ed89a858",
   "metadata": {},
   "outputs": [
    {
     "data": {
      "text/plain": [
       "0.9077009073470284"
      ]
     },
     "execution_count": 95,
     "metadata": {},
     "output_type": "execute_result"
    }
   ],
   "source": [
    "r2_score(y_test, y_pred6)"
   ]
  },
  {
   "cell_type": "markdown",
   "id": "842b65ad",
   "metadata": {},
   "source": [
    "### Stacking and voting regressor combined"
   ]
  },
  {
   "cell_type": "code",
   "execution_count": 96,
   "id": "b78efe74",
   "metadata": {},
   "outputs": [],
   "source": [
    "sr2 = StackingRegressor(\n",
    "    estimators = estimators,\n",
    "    final_estimator = vr\n",
    ")"
   ]
  },
  {
   "cell_type": "code",
   "execution_count": 97,
   "id": "6b0204fc",
   "metadata": {},
   "outputs": [
    {
     "data": {
      "text/plain": [
       "StackingRegressor(estimators=[('lr', LinearRegression()),\n",
       "                              ('ridge', Ridge(alpha=10)),\n",
       "                              ('gbr', GradientBoostingRegressor())],\n",
       "                  final_estimator=VotingRegressor(estimators=[('lr',\n",
       "                                                               LinearRegression()),\n",
       "                                                              ('rfr',\n",
       "                                                               RandomForestRegressor(random_state=42)),\n",
       "                                                              ('gbr',\n",
       "                                                               GradientBoostingRegressor())],\n",
       "                                                  weights=[2, 3, 1]))"
      ]
     },
     "execution_count": 97,
     "metadata": {},
     "output_type": "execute_result"
    }
   ],
   "source": [
    "sr2.fit(X_train,y_train)"
   ]
  },
  {
   "cell_type": "code",
   "execution_count": 98,
   "id": "c5e3ccd3",
   "metadata": {},
   "outputs": [],
   "source": [
    "y_pred7 = sr2.predict(X_test)"
   ]
  },
  {
   "cell_type": "code",
   "execution_count": 99,
   "id": "29abaad7",
   "metadata": {},
   "outputs": [
    {
     "data": {
      "text/plain": [
       "5.627069675885674"
      ]
     },
     "execution_count": 99,
     "metadata": {},
     "output_type": "execute_result"
    }
   ],
   "source": [
    "mean_squared_error(y_test, y_pred7)"
   ]
  },
  {
   "cell_type": "code",
   "execution_count": 100,
   "id": "1998685d",
   "metadata": {},
   "outputs": [
    {
     "data": {
      "text/plain": [
       "0.8953423495507702"
      ]
     },
     "execution_count": 100,
     "metadata": {},
     "output_type": "execute_result"
    }
   ],
   "source": [
    "r2_score(y_test, y_pred7)"
   ]
  },
  {
   "cell_type": "code",
   "execution_count": 102,
   "id": "dce48b75",
   "metadata": {},
   "outputs": [
    {
     "name": "stdout",
     "output_type": "stream",
     "text": [
      "                          Model       MSE  R-squared\n",
      "1                 Random Forest  4.586640   0.914693\n",
      "5               VotingRegressor  4.962594   0.907701\n",
      "3  Gradient Boosting Regression  5.600521   0.895836\n",
      "6             StackingRegressor  5.627070   0.895342\n",
      "4             StackingRegressor  6.375334   0.881425\n",
      "0              Linear Regressor  8.339143   0.844901\n",
      "2               Ridge Regressor  8.366781   0.844387\n"
     ]
    }
   ],
   "source": [
    "### comparing all the models \n",
    "data = {\n",
    "    'Model': ['Linear Regressor', 'Random Forest', 'Ridge Regressor','Gradient Boosting Regression','StackingRegressor','VotingRegressor','StackingRegressor'],\n",
    "    'MSE': [mean_squared_error(y_test, y_pred), mean_squared_error(y_test, y_pred2), mean_squared_error(y_test, y_pred3),mean_squared_error(y_test, y_pred4),mean_squared_error(y_test, y_pred5),mean_squared_error(y_test, y_pred6),mean_squared_error(y_test, y_pred7)],\n",
    "    'R-squared': [r2_score(y_test, y_pred), r2_score(y_test, y_pred2), r2_score(y_test, y_pred3),r2_score(y_test, y_pred4),r2_score(y_test, y_pred5),r2_score(y_test, y_pred6),r2_score(y_test, y_pred7)]\n",
    "}\n",
    "\n",
    "# Create a DataFrame\n",
    "df2 = pd.DataFrame(data)\n",
    "\n",
    "# Sort the DataFrame by 'MSE' column in descending order\n",
    "sorted_df2 = df2.sort_values(by='MSE', ascending=True)\n",
    "\n",
    "print(sorted_df2)"
   ]
  },
  {
   "cell_type": "markdown",
   "id": "3b30df31",
   "metadata": {},
   "source": [
    "### Hyperparameter Tuning"
   ]
  },
  {
   "cell_type": "code",
   "execution_count": 104,
   "id": "4a431647",
   "metadata": {},
   "outputs": [],
   "source": [
    "estimators2 = [\n",
    "    ('ridge',ridge_cv.best_estimator_),\n",
    "    ('gbr',gbr),\n",
    "    ('svr',SVR(C =1.0, kernel= 'linear')),\n",
    "    ('random_forest',RandomForestRegressor())\n",
    "]"
   ]
  },
  {
   "cell_type": "code",
   "execution_count": 105,
   "id": "a9dc0c5e",
   "metadata": {},
   "outputs": [],
   "source": [
    "sr3 = StackingRegressor(\n",
    "    estimators = estimators2,\n",
    "    final_estimator = Ridge(alpha = 1.0)\n",
    ")"
   ]
  },
  {
   "cell_type": "code",
   "execution_count": 106,
   "id": "7ff6ddf8",
   "metadata": {},
   "outputs": [],
   "source": [
    "param_grid_sr= {\n",
    "    'random_forest__n_estimators':[50,100,250],\n",
    "    'svr__C': [0.1,1.0,10.0],\n",
    "    'final_estimator__alpha': [0.1,1.0,10.0]\n",
    "    \n",
    "}"
   ]
  },
  {
   "cell_type": "code",
   "execution_count": 123,
   "id": "0bbe17cb",
   "metadata": {},
   "outputs": [],
   "source": [
    "sr_cv = RandomizedSearchCV(sr3, param_grid_sr, n_iter = 5, cv=3, scoring='neg_mean_squared_error' )"
   ]
  },
  {
   "cell_type": "code",
   "execution_count": 124,
   "id": "5cb6e887",
   "metadata": {},
   "outputs": [
    {
     "name": "stdout",
     "output_type": "stream",
     "text": [
      "Wall time: 7min 16s\n"
     ]
    },
    {
     "data": {
      "text/plain": [
       "RandomizedSearchCV(cv=3,\n",
       "                   estimator=StackingRegressor(estimators=[('ridge',\n",
       "                                                            Ridge(alpha=10)),\n",
       "                                                           ('gbr',\n",
       "                                                            GradientBoostingRegressor()),\n",
       "                                                           ('svr',\n",
       "                                                            SVR(kernel='linear')),\n",
       "                                                           ('random_forest',\n",
       "                                                            RandomForestRegressor())],\n",
       "                                               final_estimator=Ridge()),\n",
       "                   n_iter=5,\n",
       "                   param_distributions={'final_estimator__alpha': [0.1, 1.0,\n",
       "                                                                   10.0],\n",
       "                                        'random_forest__n_estimators': [50, 100,\n",
       "                                                                        250],\n",
       "                                        'svr__C': [0.1, 1.0, 10.0]},\n",
       "                   scoring='neg_mean_squared_error')"
      ]
     },
     "execution_count": 124,
     "metadata": {},
     "output_type": "execute_result"
    }
   ],
   "source": [
    "%%time\n",
    "sr_cv.fit(X_train, y_train)"
   ]
  },
  {
   "cell_type": "code",
   "execution_count": 125,
   "id": "be66cedb",
   "metadata": {},
   "outputs": [],
   "source": [
    "y_pred8 = sr_cv.predict(X_test)"
   ]
  },
  {
   "cell_type": "code",
   "execution_count": 126,
   "id": "2785a854",
   "metadata": {},
   "outputs": [
    {
     "data": {
      "text/plain": [
       "5.234766061102006"
      ]
     },
     "execution_count": 126,
     "metadata": {},
     "output_type": "execute_result"
    }
   ],
   "source": [
    "mean_squared_error(y_test, y_pred8)"
   ]
  },
  {
   "cell_type": "code",
   "execution_count": 127,
   "id": "90e54d16",
   "metadata": {},
   "outputs": [
    {
     "data": {
      "text/plain": [
       "0.9026387892522275"
      ]
     },
     "execution_count": 127,
     "metadata": {},
     "output_type": "execute_result"
    }
   ],
   "source": [
    "r2_score(y_test, y_pred8)"
   ]
  },
  {
   "cell_type": "code",
   "execution_count": 129,
   "id": "5e187fb7",
   "metadata": {},
   "outputs": [
    {
     "data": {
      "text/plain": [
       "{'svr__C': 0.1,\n",
       " 'random_forest__n_estimators': 250,\n",
       " 'final_estimator__alpha': 0.1}"
      ]
     },
     "execution_count": 129,
     "metadata": {},
     "output_type": "execute_result"
    }
   ],
   "source": [
    "sr_cv.best_params_"
   ]
  }
 ],
 "metadata": {
  "kernelspec": {
   "display_name": "Python 3",
   "language": "python",
   "name": "python3"
  },
  "language_info": {
   "codemirror_mode": {
    "name": "ipython",
    "version": 3
   },
   "file_extension": ".py",
   "mimetype": "text/x-python",
   "name": "python",
   "nbconvert_exporter": "python",
   "pygments_lexer": "ipython3",
   "version": "3.8.8"
  }
 },
 "nbformat": 4,
 "nbformat_minor": 5
}
